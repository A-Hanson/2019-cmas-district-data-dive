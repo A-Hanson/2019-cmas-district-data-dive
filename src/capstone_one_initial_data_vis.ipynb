{
 "cells": [
  {
   "cell_type": "code",
   "execution_count": 13,
   "metadata": {},
   "outputs": [],
   "source": [
    "import pandas as pd\n",
    "import numpy as np\n",
    "import scipy.stats as stats\n",
    "import matplotlib.pyplot as plt"
   ]
  },
  {
   "cell_type": "code",
   "execution_count": 2,
   "metadata": {},
   "outputs": [],
   "source": [
    "#disaggregated 2019 science CMAS data\n",
    "df_disag = pd.read_excel('2019 CMAS Science Disaggregated District and School Achievement Results.xlsx')\n",
    "#2019 science CMAS data by school and district\n",
    "df_sch_dist = pd.read_excel('2019 CMAS Science District and School Achievement Results.xlsx')"
   ]
  },
  {
   "cell_type": "code",
   "execution_count": 4,
   "metadata": {},
   "outputs": [
    {
     "data": {
      "text/plain": [
       "(9343, 23)"
      ]
     },
     "execution_count": 4,
     "metadata": {},
     "output_type": "execute_result"
    }
   ],
   "source": [
    "df_disag.shape\n"
   ]
  },
  {
   "cell_type": "code",
   "execution_count": 5,
   "metadata": {},
   "outputs": [
    {
     "data": {
      "text/plain": [
       "Index(['Unnamed: 0', 'Unnamed: 1', 'Unnamed: 2', 'Unnamed: 3', 'Unnamed: 4',\n",
       "       'Unnamed: 5', 'Unnamed: 6', 'Unnamed: 7', 'Unnamed: 8', 'Unnamed: 9',\n",
       "       'Unnamed: 10', 'Unnamed: 11', 'Unnamed: 12', 'Unnamed: 13',\n",
       "       'Unnamed: 14', 'Unnamed: 15', 'Unnamed: 16', 'Unnamed: 17',\n",
       "       'Unnamed: 18', 'Unnamed: 19', 'Unnamed: 20', 'Unnamed: 21',\n",
       "       'Unnamed: 22'],\n",
       "      dtype='object')"
      ]
     },
     "execution_count": 5,
     "metadata": {},
     "output_type": "execute_result"
    }
   ],
   "source": [
    "df_disag.columns"
   ]
  },
  {
   "cell_type": "code",
   "execution_count": 6,
   "metadata": {},
   "outputs": [
    {
     "name": "stdout",
     "output_type": "stream",
     "text": [
      "<class 'pandas.core.frame.DataFrame'>\n",
      "RangeIndex: 9343 entries, 0 to 9342\n",
      "Data columns (total 23 columns):\n",
      " #   Column       Non-Null Count  Dtype \n",
      "---  ------       --------------  ----- \n",
      " 0   Unnamed: 0   9338 non-null   object\n",
      " 1   Unnamed: 1   9333 non-null   object\n",
      " 2   Unnamed: 2   9333 non-null   object\n",
      " 3   Unnamed: 3   9333 non-null   object\n",
      " 4   Unnamed: 4   9333 non-null   object\n",
      " 5   Unnamed: 5   9333 non-null   object\n",
      " 6   Unnamed: 6   9333 non-null   object\n",
      " 7   Unnamed: 7   9334 non-null   object\n",
      " 8   Unnamed: 8   9333 non-null   object\n",
      " 9   Unnamed: 9   9333 non-null   object\n",
      " 10  Unnamed: 10  9333 non-null   object\n",
      " 11  Unnamed: 11  9334 non-null   object\n",
      " 12  Unnamed: 12  9334 non-null   object\n",
      " 13  Unnamed: 13  9334 non-null   object\n",
      " 14  Unnamed: 14  9333 non-null   object\n",
      " 15  Unnamed: 15  9333 non-null   object\n",
      " 16  Unnamed: 16  9333 non-null   object\n",
      " 17  Unnamed: 17  9333 non-null   object\n",
      " 18  Unnamed: 18  9333 non-null   object\n",
      " 19  Unnamed: 19  9333 non-null   object\n",
      " 20  Unnamed: 20  9333 non-null   object\n",
      " 21  Unnamed: 21  9333 non-null   object\n",
      " 22  Unnamed: 22  9333 non-null   object\n",
      "dtypes: object(23)\n",
      "memory usage: 1.6+ MB\n"
     ]
    }
   ],
   "source": [
    "df_disag.info()"
   ]
  },
  {
   "cell_type": "code",
   "execution_count": 8,
   "metadata": {},
   "outputs": [
    {
     "data": {
      "text/html": [
       "<div>\n",
       "<style scoped>\n",
       "    .dataframe tbody tr th:only-of-type {\n",
       "        vertical-align: middle;\n",
       "    }\n",
       "\n",
       "    .dataframe tbody tr th {\n",
       "        vertical-align: top;\n",
       "    }\n",
       "\n",
       "    .dataframe thead th {\n",
       "        text-align: right;\n",
       "    }\n",
       "</style>\n",
       "<table border=\"1\" class=\"dataframe\">\n",
       "  <thead>\n",
       "    <tr style=\"text-align: right;\">\n",
       "      <th></th>\n",
       "      <th>Unnamed: 0</th>\n",
       "      <th>Unnamed: 1</th>\n",
       "      <th>Unnamed: 2</th>\n",
       "      <th>Unnamed: 3</th>\n",
       "      <th>Unnamed: 4</th>\n",
       "      <th>Unnamed: 5</th>\n",
       "      <th>Unnamed: 6</th>\n",
       "      <th>Unnamed: 7</th>\n",
       "      <th>Unnamed: 8</th>\n",
       "      <th>Unnamed: 9</th>\n",
       "      <th>...</th>\n",
       "      <th>Unnamed: 13</th>\n",
       "      <th>Unnamed: 14</th>\n",
       "      <th>Unnamed: 15</th>\n",
       "      <th>Unnamed: 16</th>\n",
       "      <th>Unnamed: 17</th>\n",
       "      <th>Unnamed: 18</th>\n",
       "      <th>Unnamed: 19</th>\n",
       "      <th>Unnamed: 20</th>\n",
       "      <th>Unnamed: 21</th>\n",
       "      <th>Unnamed: 22</th>\n",
       "    </tr>\n",
       "  </thead>\n",
       "  <tbody>\n",
       "    <tr>\n",
       "      <th>count</th>\n",
       "      <td>9338</td>\n",
       "      <td>9333</td>\n",
       "      <td>9333</td>\n",
       "      <td>9333</td>\n",
       "      <td>9333</td>\n",
       "      <td>9333</td>\n",
       "      <td>9333</td>\n",
       "      <td>9334</td>\n",
       "      <td>9333</td>\n",
       "      <td>9333</td>\n",
       "      <td>...</td>\n",
       "      <td>9334</td>\n",
       "      <td>9333</td>\n",
       "      <td>9333</td>\n",
       "      <td>9333</td>\n",
       "      <td>9333</td>\n",
       "      <td>9333</td>\n",
       "      <td>9333</td>\n",
       "      <td>9333</td>\n",
       "      <td>9333</td>\n",
       "      <td>9333</td>\n",
       "    </tr>\n",
       "    <tr>\n",
       "      <th>unique</th>\n",
       "      <td>9</td>\n",
       "      <td>187</td>\n",
       "      <td>187</td>\n",
       "      <td>1786</td>\n",
       "      <td>1711</td>\n",
       "      <td>5</td>\n",
       "      <td>3</td>\n",
       "      <td>494</td>\n",
       "      <td>438</td>\n",
       "      <td>252</td>\n",
       "      <td>...</td>\n",
       "      <td>287</td>\n",
       "      <td>706</td>\n",
       "      <td>292</td>\n",
       "      <td>443</td>\n",
       "      <td>242</td>\n",
       "      <td>378</td>\n",
       "      <td>102</td>\n",
       "      <td>192</td>\n",
       "      <td>266</td>\n",
       "      <td>697</td>\n",
       "    </tr>\n",
       "    <tr>\n",
       "      <th>top</th>\n",
       "      <td>School</td>\n",
       "      <td>0880</td>\n",
       "      <td>DENVER COUNTY 1</td>\n",
       "      <td>0000</td>\n",
       "      <td>All Schools</td>\n",
       "      <td>All Grades</td>\n",
       "      <td>Male</td>\n",
       "      <td>- -</td>\n",
       "      <td>&lt; 16</td>\n",
       "      <td>- -</td>\n",
       "      <td>...</td>\n",
       "      <td>- -</td>\n",
       "      <td>- -</td>\n",
       "      <td>- -</td>\n",
       "      <td>- -</td>\n",
       "      <td>- -</td>\n",
       "      <td>- -</td>\n",
       "      <td>- -</td>\n",
       "      <td>- -</td>\n",
       "      <td>- -</td>\n",
       "      <td>- -</td>\n",
       "    </tr>\n",
       "    <tr>\n",
       "      <th>freq</th>\n",
       "      <td>7869</td>\n",
       "      <td>844</td>\n",
       "      <td>844</td>\n",
       "      <td>1463</td>\n",
       "      <td>1463</td>\n",
       "      <td>3923</td>\n",
       "      <td>4671</td>\n",
       "      <td>2391</td>\n",
       "      <td>2391</td>\n",
       "      <td>2391</td>\n",
       "      <td>...</td>\n",
       "      <td>4133</td>\n",
       "      <td>4133</td>\n",
       "      <td>5080</td>\n",
       "      <td>5080</td>\n",
       "      <td>8254</td>\n",
       "      <td>8254</td>\n",
       "      <td>8254</td>\n",
       "      <td>8254</td>\n",
       "      <td>4040</td>\n",
       "      <td>4040</td>\n",
       "    </tr>\n",
       "  </tbody>\n",
       "</table>\n",
       "<p>4 rows × 23 columns</p>\n",
       "</div>"
      ],
      "text/plain": [
       "       Unnamed: 0 Unnamed: 1       Unnamed: 2 Unnamed: 3   Unnamed: 4  \\\n",
       "count        9338       9333             9333       9333         9333   \n",
       "unique          9        187              187       1786         1711   \n",
       "top        School       0880  DENVER COUNTY 1       0000  All Schools   \n",
       "freq         7869        844              844       1463         1463   \n",
       "\n",
       "        Unnamed: 5 Unnamed: 6 Unnamed: 7 Unnamed: 8 Unnamed: 9  ...  \\\n",
       "count         9333       9333       9334       9333       9333  ...   \n",
       "unique           5          3        494        438        252  ...   \n",
       "top     All Grades       Male        - -       < 16        - -  ...   \n",
       "freq          3923       4671       2391       2391       2391  ...   \n",
       "\n",
       "       Unnamed: 13 Unnamed: 14 Unnamed: 15 Unnamed: 16 Unnamed: 17  \\\n",
       "count         9334        9333        9333        9333        9333   \n",
       "unique         287         706         292         443         242   \n",
       "top            - -         - -         - -         - -         - -   \n",
       "freq          4133        4133        5080        5080        8254   \n",
       "\n",
       "       Unnamed: 18 Unnamed: 19 Unnamed: 20 Unnamed: 21 Unnamed: 22  \n",
       "count         9333        9333        9333        9333        9333  \n",
       "unique         378         102         192         266         697  \n",
       "top            - -         - -         - -         - -         - -  \n",
       "freq          8254        8254        8254        4040        4040  \n",
       "\n",
       "[4 rows x 23 columns]"
      ]
     },
     "execution_count": 8,
     "metadata": {},
     "output_type": "execute_result"
    }
   ],
   "source": [
    "df_disag.describe()"
   ]
  },
  {
   "cell_type": "code",
   "execution_count": 9,
   "metadata": {},
   "outputs": [
    {
     "data": {
      "text/plain": [
       "(4717, 26)"
      ]
     },
     "execution_count": 9,
     "metadata": {},
     "output_type": "execute_result"
    }
   ],
   "source": [
    "df_sch_dist.shape"
   ]
  },
  {
   "cell_type": "code",
   "execution_count": 10,
   "metadata": {},
   "outputs": [
    {
     "data": {
      "text/plain": [
       "Index(['Unnamed: 0', 'Unnamed: 1', 'Unnamed: 2', 'Unnamed: 3', 'Unnamed: 4',\n",
       "       'Unnamed: 5', 'Unnamed: 6', 'Unnamed: 7', 'Unnamed: 8', 'Unnamed: 9',\n",
       "       'Unnamed: 10', 'Unnamed: 11', 'Unnamed: 12', 'Unnamed: 13',\n",
       "       'Unnamed: 14', 'Unnamed: 15', 'Unnamed: 16', 'Unnamed: 17',\n",
       "       'Unnamed: 18', 'Unnamed: 19', 'Unnamed: 20', 'Unnamed: 21',\n",
       "       'Unnamed: 22', 'Unnamed: 23', 'Unnamed: 24', 'Unnamed: 25'],\n",
       "      dtype='object')"
      ]
     },
     "execution_count": 10,
     "metadata": {},
     "output_type": "execute_result"
    }
   ],
   "source": [
    "df_sch_dist.columns"
   ]
  },
  {
   "cell_type": "code",
   "execution_count": 11,
   "metadata": {},
   "outputs": [
    {
     "name": "stdout",
     "output_type": "stream",
     "text": [
      "<class 'pandas.core.frame.DataFrame'>\n",
      "RangeIndex: 4717 entries, 0 to 4716\n",
      "Data columns (total 26 columns):\n",
      " #   Column       Non-Null Count  Dtype \n",
      "---  ------       --------------  ----- \n",
      " 0   Unnamed: 0   4711 non-null   object\n",
      " 1   Unnamed: 1   4706 non-null   object\n",
      " 2   Unnamed: 2   4706 non-null   object\n",
      " 3   Unnamed: 3   4706 non-null   object\n",
      " 4   Unnamed: 4   4706 non-null   object\n",
      " 5   Unnamed: 5   4706 non-null   object\n",
      " 6   Unnamed: 6   4707 non-null   object\n",
      " 7   Unnamed: 7   4706 non-null   object\n",
      " 8   Unnamed: 8   4706 non-null   object\n",
      " 9   Unnamed: 9   4706 non-null   object\n",
      " 10  Unnamed: 10  4708 non-null   object\n",
      " 11  Unnamed: 11  4706 non-null   object\n",
      " 12  Unnamed: 12  4596 non-null   object\n",
      " 13  Unnamed: 13  4709 non-null   object\n",
      " 14  Unnamed: 14  4706 non-null   object\n",
      " 15  Unnamed: 15  4706 non-null   object\n",
      " 16  Unnamed: 16  4706 non-null   object\n",
      " 17  Unnamed: 17  4706 non-null   object\n",
      " 18  Unnamed: 18  4706 non-null   object\n",
      " 19  Unnamed: 19  4706 non-null   object\n",
      " 20  Unnamed: 20  4706 non-null   object\n",
      " 21  Unnamed: 21  4706 non-null   object\n",
      " 22  Unnamed: 22  4706 non-null   object\n",
      " 23  Unnamed: 23  4596 non-null   object\n",
      " 24  Unnamed: 24  4595 non-null   object\n",
      " 25  Unnamed: 25  4637 non-null   object\n",
      "dtypes: object(26)\n",
      "memory usage: 958.3+ KB\n"
     ]
    }
   ],
   "source": [
    "df_sch_dist.info()"
   ]
  },
  {
   "cell_type": "code",
   "execution_count": 12,
   "metadata": {},
   "outputs": [
    {
     "data": {
      "text/html": [
       "<div>\n",
       "<style scoped>\n",
       "    .dataframe tbody tr th:only-of-type {\n",
       "        vertical-align: middle;\n",
       "    }\n",
       "\n",
       "    .dataframe tbody tr th {\n",
       "        vertical-align: top;\n",
       "    }\n",
       "\n",
       "    .dataframe thead th {\n",
       "        text-align: right;\n",
       "    }\n",
       "</style>\n",
       "<table border=\"1\" class=\"dataframe\">\n",
       "  <thead>\n",
       "    <tr style=\"text-align: right;\">\n",
       "      <th></th>\n",
       "      <th>Unnamed: 0</th>\n",
       "      <th>Unnamed: 1</th>\n",
       "      <th>Unnamed: 2</th>\n",
       "      <th>Unnamed: 3</th>\n",
       "      <th>Unnamed: 4</th>\n",
       "      <th>Unnamed: 5</th>\n",
       "      <th>Unnamed: 6</th>\n",
       "      <th>Unnamed: 7</th>\n",
       "      <th>Unnamed: 8</th>\n",
       "      <th>Unnamed: 9</th>\n",
       "      <th>...</th>\n",
       "      <th>Unnamed: 16</th>\n",
       "      <th>Unnamed: 17</th>\n",
       "      <th>Unnamed: 18</th>\n",
       "      <th>Unnamed: 19</th>\n",
       "      <th>Unnamed: 20</th>\n",
       "      <th>Unnamed: 21</th>\n",
       "      <th>Unnamed: 22</th>\n",
       "      <th>Unnamed: 23</th>\n",
       "      <th>Unnamed: 24</th>\n",
       "      <th>Unnamed: 25</th>\n",
       "    </tr>\n",
       "  </thead>\n",
       "  <tbody>\n",
       "    <tr>\n",
       "      <th>count</th>\n",
       "      <td>4711</td>\n",
       "      <td>4706</td>\n",
       "      <td>4706</td>\n",
       "      <td>4706</td>\n",
       "      <td>4706</td>\n",
       "      <td>4706</td>\n",
       "      <td>4707</td>\n",
       "      <td>4706</td>\n",
       "      <td>4706</td>\n",
       "      <td>4706</td>\n",
       "      <td>...</td>\n",
       "      <td>4706</td>\n",
       "      <td>4706</td>\n",
       "      <td>4706</td>\n",
       "      <td>4706</td>\n",
       "      <td>4706</td>\n",
       "      <td>4706</td>\n",
       "      <td>4706</td>\n",
       "      <td>4596</td>\n",
       "      <td>4595</td>\n",
       "      <td>4637</td>\n",
       "    </tr>\n",
       "    <tr>\n",
       "      <th>unique</th>\n",
       "      <td>9</td>\n",
       "      <td>187</td>\n",
       "      <td>187</td>\n",
       "      <td>1786</td>\n",
       "      <td>1711</td>\n",
       "      <td>5</td>\n",
       "      <td>518</td>\n",
       "      <td>453</td>\n",
       "      <td>247</td>\n",
       "      <td>421</td>\n",
       "      <td>...</td>\n",
       "      <td>417</td>\n",
       "      <td>231</td>\n",
       "      <td>409</td>\n",
       "      <td>94</td>\n",
       "      <td>182</td>\n",
       "      <td>256</td>\n",
       "      <td>654</td>\n",
       "      <td>269</td>\n",
       "      <td>659</td>\n",
       "      <td>419</td>\n",
       "    </tr>\n",
       "    <tr>\n",
       "      <th>top</th>\n",
       "      <td>SCHOOL</td>\n",
       "      <td>0880</td>\n",
       "      <td>DENVER COUNTY 1</td>\n",
       "      <td>0000</td>\n",
       "      <td>All Schools</td>\n",
       "      <td>All Grades</td>\n",
       "      <td>- -</td>\n",
       "      <td>&lt; 16</td>\n",
       "      <td>0</td>\n",
       "      <td>100.0</td>\n",
       "      <td>...</td>\n",
       "      <td>- -</td>\n",
       "      <td>- -</td>\n",
       "      <td>- -</td>\n",
       "      <td>- -</td>\n",
       "      <td>- -</td>\n",
       "      <td>- -</td>\n",
       "      <td>- -</td>\n",
       "      <td>- -</td>\n",
       "      <td>- -</td>\n",
       "      <td>- -</td>\n",
       "    </tr>\n",
       "    <tr>\n",
       "      <th>freq</th>\n",
       "      <td>3967</td>\n",
       "      <td>427</td>\n",
       "      <td>427</td>\n",
       "      <td>738</td>\n",
       "      <td>738</td>\n",
       "      <td>1970</td>\n",
       "      <td>668</td>\n",
       "      <td>668</td>\n",
       "      <td>864</td>\n",
       "      <td>864</td>\n",
       "      <td>...</td>\n",
       "      <td>1457</td>\n",
       "      <td>3458</td>\n",
       "      <td>3458</td>\n",
       "      <td>3458</td>\n",
       "      <td>3458</td>\n",
       "      <td>1202</td>\n",
       "      <td>1202</td>\n",
       "      <td>1287</td>\n",
       "      <td>1287</td>\n",
       "      <td>1479</td>\n",
       "    </tr>\n",
       "  </tbody>\n",
       "</table>\n",
       "<p>4 rows × 26 columns</p>\n",
       "</div>"
      ],
      "text/plain": [
       "       Unnamed: 0 Unnamed: 1       Unnamed: 2 Unnamed: 3   Unnamed: 4  \\\n",
       "count        4711       4706             4706       4706         4706   \n",
       "unique          9        187              187       1786         1711   \n",
       "top        SCHOOL       0880  DENVER COUNTY 1       0000  All Schools   \n",
       "freq         3967        427              427        738          738   \n",
       "\n",
       "        Unnamed: 5 Unnamed: 6 Unnamed: 7 Unnamed: 8 Unnamed: 9  ...  \\\n",
       "count         4706       4707       4706       4706       4706  ...   \n",
       "unique           5        518        453        247        421  ...   \n",
       "top     All Grades        - -       < 16          0      100.0  ...   \n",
       "freq          1970        668        668        864        864  ...   \n",
       "\n",
       "       Unnamed: 16 Unnamed: 17 Unnamed: 18 Unnamed: 19 Unnamed: 20  \\\n",
       "count         4706        4706        4706        4706        4706   \n",
       "unique         417         231         409          94         182   \n",
       "top            - -         - -         - -         - -         - -   \n",
       "freq          1457        3458        3458        3458        3458   \n",
       "\n",
       "       Unnamed: 21 Unnamed: 22 Unnamed: 23 Unnamed: 24 Unnamed: 25  \n",
       "count         4706        4706        4596        4595        4637  \n",
       "unique         256         654         269         659         419  \n",
       "top            - -         - -         - -         - -         - -  \n",
       "freq          1202        1202        1287        1287        1479  \n",
       "\n",
       "[4 rows x 26 columns]"
      ]
     },
     "execution_count": 12,
     "metadata": {},
     "output_type": "execute_result"
    }
   ],
   "source": [
    "df_sch_dist.describe()"
   ]
  },
  {
   "cell_type": "code",
   "execution_count": 1,
   "metadata": {},
   "outputs": [
    {
     "name": "stdout",
     "output_type": "stream",
     "text": [
      "Index(['level', 'district_code', 'district_name', 'school_code', 'school_name',\n",
      "       'grade', 'num_total_rec', 'num_valid_scores', 'num_no_scores',\n",
      "       'participation_rate', 'mean_scale_score_19', 'std_scale_score_19',\n",
      "       'mean_scale_score_18', 'num_pme_19', 'percent_pme_19', 'num_ae_19',\n",
      "       'percent_ae_19', 'num_me_19', 'percent_me_19', 'num_ee_19',\n",
      "       'percent_ee_19', 'num_me_or_ee_19', 'percent_me_or_ee_19',\n",
      "       'num_me_or_ee_18', 'percent_me_or_ee_18', 'change_in_me_or_ee'],\n",
      "      dtype='object')\n"
     ]
    }
   ],
   "source": [
    "from initial_clean import district_df as d_df"
   ]
  },
  {
   "cell_type": "code",
   "execution_count": 2,
   "metadata": {},
   "outputs": [
    {
     "name": "stdout",
     "output_type": "stream",
     "text": [
      "<class 'pandas.core.frame.DataFrame'>\n",
      "Int64Index: 554 entries, 11 to 748\n",
      "Data columns (total 26 columns):\n",
      " #   Column               Non-Null Count  Dtype \n",
      "---  ------               --------------  ----- \n",
      " 0   level                554 non-null    object\n",
      " 1   district_code        554 non-null    object\n",
      " 2   district_name        554 non-null    object\n",
      " 3   school_code          554 non-null    object\n",
      " 4   school_name          554 non-null    object\n",
      " 5   grade                554 non-null    object\n",
      " 6   num_total_rec        554 non-null    object\n",
      " 7   num_valid_scores     554 non-null    object\n",
      " 8   num_no_scores        554 non-null    object\n",
      " 9   participation_rate   554 non-null    object\n",
      " 10  mean_scale_score_19  554 non-null    object\n",
      " 11  std_scale_score_19   554 non-null    object\n",
      " 12  mean_scale_score_18  554 non-null    object\n",
      " 13  num_pme_19           554 non-null    object\n",
      " 14  percent_pme_19       554 non-null    object\n",
      " 15  num_ae_19            554 non-null    object\n",
      " 16  percent_ae_19        554 non-null    object\n",
      " 17  num_me_19            554 non-null    object\n",
      " 18  percent_me_19        554 non-null    object\n",
      " 19  num_ee_19            554 non-null    object\n",
      " 20  percent_ee_19        554 non-null    object\n",
      " 21  num_me_or_ee_19      554 non-null    object\n",
      " 22  percent_me_or_ee_19  554 non-null    object\n",
      " 23  num_me_or_ee_18      554 non-null    object\n",
      " 24  percent_me_or_ee_18  554 non-null    object\n",
      " 25  change_in_me_or_ee   554 non-null    object\n",
      "dtypes: object(26)\n",
      "memory usage: 116.9+ KB\n"
     ]
    }
   ],
   "source": [
    "d_df.info()"
   ]
  },
  {
   "cell_type": "code",
   "execution_count": 3,
   "metadata": {},
   "outputs": [
    {
     "data": {
      "text/plain": [
       "array([' 162,316', '  65,689', '  58,390', '  38,237', '   1,666',\n",
       "       '     571', '     591', '     504', '   7,793', '   2,970',\n",
       "       '   2,736', '   2,087', '   1,286', '     523', '     470',\n",
       "       '     293', '   3,213', '   1,445', '   1,290', '     478',\n",
       "       '     266', '      84', '      89', '      93', '     224',\n",
       "       '      88', '      54', '      82', '   1,826', '     677',\n",
       "       '     600', '     549', '     503', '     185', '     176',\n",
       "       '     142', '      70', '      29', '      21', '      20',\n",
       "       '     456', '     169', '     131', '     156', '     295',\n",
       "       '      91', '     113', '   8,434', '   4,042', '   3,254',\n",
       "       '   1,138', '   2,300', '   1,007', '     958', '     335',\n",
       "       '      39', '   7,297', '   2,952', '   2,626', '   1,719',\n",
       "       '     171', '      63', '      73', '      35', '     328',\n",
       "       '     123', '     118', '      87', '      30', '      17',\n",
       "       '      59', '      33', '     554', '      31', '     221',\n",
       "       '     302', '      68', '      27', '      22', '      19',\n",
       "       '   5,511', '   2,263', '   2,032', '   1,216', '   4,694',\n",
       "       '   2,130', '   1,962', '     602', '     218', '      61',\n",
       "       '     267', '      99', '      80', '     150', '      55',\n",
       "       '      45', '      50', '     225', '      74', '      83',\n",
       "       '      75', '      24', '      37', '      42', '      25',\n",
       "       '      96', '      34', '      79', '      28', '     950',\n",
       "       '     317', '     305', '  17,671', '   6,964', '   6,100',\n",
       "       '   4,607', '   9,868', '   4,677', '   4,123', '   1,068',\n",
       "       '   1,354', '     483', '     443', '     428', '     368',\n",
       "       '     152', '      40', '      18', '      16', '     107',\n",
       "       '      38', '   2,392', '     946', '     863', '     583',\n",
       "       '   1,915', '     737', '     615', '     563', '   1,450',\n",
       "       '     624', '     506', '     320', '   5,044', '   1,975',\n",
       "       '   1,694', '   1,375', '     979', '     365', '     351',\n",
       "       '     263', '     254', '      92', '     102', '      60',\n",
       "       '   4,349', '   1,762', '   1,624', '     963', '     210',\n",
       "       '      71', '     153', '      41', '      62', '   1,095',\n",
       "       '     397', '     396', '   3,868', '   1,327', '   1,203',\n",
       "       '   1,338', '      23', '     715', '     248', '     281',\n",
       "       '     186', '     100', '      77', '     924', '     405',\n",
       "       '     384', '     135', '     938', '     370', '     322',\n",
       "       '     246', '     133', '      81', '     106', '     301',\n",
       "       '     109', '     108', '     438', '     166', '     161',\n",
       "       '     111', '  15,573', '   6,138', '   5,534', '   3,901',\n",
       "       '      56', '     214', '     927', '     369', '     308',\n",
       "       '     250', '     252', '     117', '      98', '     170',\n",
       "       '      52', '   4,570', '   2,285', '   1,833', '     452',\n",
       "       '   2,947', '   1,158', '     955', '     834', '     226',\n",
       "       '      90', '      57', '     207', '      85', '      26',\n",
       "       '      44', '      97', '      43', '     162', '     167',\n",
       "       '   4,027', '   1,627', '   1,467', '     933', '     145',\n",
       "       '      78', '     509', '     181', '     163', '     165',\n",
       "       '     147', '     479', '     423', '      65', '     684',\n",
       "       '     243', '     230', '     211', '      64', '     121',\n",
       "       '     174', '     120', '     128', '      32', '     241',\n",
       "       '     323', '     105', '      46', '   3,052', '   1,448',\n",
       "       '     941', '     663', '   2,187', '     809', '     739',\n",
       "       '     639', '     143', '      53', '     197', '      66',\n",
       "       '     212', '     203', '      48', '     125', '     199',\n",
       "       '     794', '     289', '     251', '     432', '     159',\n",
       "       '     137', '     136', '     399', '     122', '     383',\n",
       "       '     154', '     194', '     172', '     138', '   1,407',\n",
       "       '     526', '     469', '     412', '     711', '     357',\n",
       "       '     103', '   4,720', '   1,767', '   1,606', '   1,347',\n",
       "       '     239', '     476', '     192', '      49', '     140',\n",
       "       '      47', '   3,177', '   1,247', '   1,097', '     833',\n",
       "       '     236'], dtype=object)"
      ]
     },
     "execution_count": 3,
     "metadata": {},
     "output_type": "execute_result"
    }
   ],
   "source": [
    "d_df['num_valid_scores'].unique()"
   ]
  },
  {
   "cell_type": "code",
   "execution_count": 4,
   "metadata": {},
   "outputs": [
    {
     "data": {
      "text/html": [
       "<div>\n",
       "<style scoped>\n",
       "    .dataframe tbody tr th:only-of-type {\n",
       "        vertical-align: middle;\n",
       "    }\n",
       "\n",
       "    .dataframe tbody tr th {\n",
       "        vertical-align: top;\n",
       "    }\n",
       "\n",
       "    .dataframe thead th {\n",
       "        text-align: right;\n",
       "    }\n",
       "</style>\n",
       "<table border=\"1\" class=\"dataframe\">\n",
       "  <thead>\n",
       "    <tr style=\"text-align: right;\">\n",
       "      <th></th>\n",
       "      <th>level</th>\n",
       "      <th>district_code</th>\n",
       "      <th>district_name</th>\n",
       "      <th>school_code</th>\n",
       "      <th>school_name</th>\n",
       "      <th>grade</th>\n",
       "      <th>num_total_rec</th>\n",
       "      <th>num_valid_scores</th>\n",
       "      <th>num_no_scores</th>\n",
       "      <th>participation_rate</th>\n",
       "      <th>...</th>\n",
       "      <th>percent_ae_19</th>\n",
       "      <th>num_me_19</th>\n",
       "      <th>percent_me_19</th>\n",
       "      <th>num_ee_19</th>\n",
       "      <th>percent_ee_19</th>\n",
       "      <th>num_me_or_ee_19</th>\n",
       "      <th>percent_me_or_ee_19</th>\n",
       "      <th>num_me_or_ee_18</th>\n",
       "      <th>percent_me_or_ee_18</th>\n",
       "      <th>change_in_me_or_ee</th>\n",
       "    </tr>\n",
       "  </thead>\n",
       "  <tbody>\n",
       "    <tr>\n",
       "      <th>count</th>\n",
       "      <td>554</td>\n",
       "      <td>554</td>\n",
       "      <td>554</td>\n",
       "      <td>554</td>\n",
       "      <td>554</td>\n",
       "      <td>554</td>\n",
       "      <td>554</td>\n",
       "      <td>554</td>\n",
       "      <td>554</td>\n",
       "      <td>554</td>\n",
       "      <td>...</td>\n",
       "      <td>554</td>\n",
       "      <td>554</td>\n",
       "      <td>554</td>\n",
       "      <td>554</td>\n",
       "      <td>554</td>\n",
       "      <td>554</td>\n",
       "      <td>554</td>\n",
       "      <td>554</td>\n",
       "      <td>554</td>\n",
       "      <td>554</td>\n",
       "    </tr>\n",
       "    <tr>\n",
       "      <th>unique</th>\n",
       "      <td>2</td>\n",
       "      <td>164</td>\n",
       "      <td>164</td>\n",
       "      <td>1</td>\n",
       "      <td>1</td>\n",
       "      <td>4</td>\n",
       "      <td>334</td>\n",
       "      <td>311</td>\n",
       "      <td>161</td>\n",
       "      <td>226</td>\n",
       "      <td>...</td>\n",
       "      <td>242</td>\n",
       "      <td>158</td>\n",
       "      <td>156</td>\n",
       "      <td>86</td>\n",
       "      <td>81</td>\n",
       "      <td>206</td>\n",
       "      <td>302</td>\n",
       "      <td>207</td>\n",
       "      <td>307</td>\n",
       "      <td>235</td>\n",
       "    </tr>\n",
       "    <tr>\n",
       "      <th>top</th>\n",
       "      <td>DISTRICT</td>\n",
       "      <td>2780</td>\n",
       "      <td>HANOVER 28</td>\n",
       "      <td>0000</td>\n",
       "      <td>All Schools</td>\n",
       "      <td>All Grades</td>\n",
       "      <td>29</td>\n",
       "      <td>17</td>\n",
       "      <td>0</td>\n",
       "      <td>100.0</td>\n",
       "      <td>...</td>\n",
       "      <td>- -</td>\n",
       "      <td>- -</td>\n",
       "      <td>- -</td>\n",
       "      <td>- -</td>\n",
       "      <td>- -</td>\n",
       "      <td>- -</td>\n",
       "      <td>- -</td>\n",
       "      <td>- -</td>\n",
       "      <td>- -</td>\n",
       "      <td>- -</td>\n",
       "    </tr>\n",
       "    <tr>\n",
       "      <th>freq</th>\n",
       "      <td>550</td>\n",
       "      <td>4</td>\n",
       "      <td>4</td>\n",
       "      <td>554</td>\n",
       "      <td>554</td>\n",
       "      <td>164</td>\n",
       "      <td>11</td>\n",
       "      <td>10</td>\n",
       "      <td>94</td>\n",
       "      <td>94</td>\n",
       "      <td>...</td>\n",
       "      <td>71</td>\n",
       "      <td>359</td>\n",
       "      <td>359</td>\n",
       "      <td>359</td>\n",
       "      <td>359</td>\n",
       "      <td>46</td>\n",
       "      <td>46</td>\n",
       "      <td>63</td>\n",
       "      <td>63</td>\n",
       "      <td>74</td>\n",
       "    </tr>\n",
       "  </tbody>\n",
       "</table>\n",
       "<p>4 rows × 26 columns</p>\n",
       "</div>"
      ],
      "text/plain": [
       "           level district_code district_name school_code  school_name  \\\n",
       "count        554           554           554         554          554   \n",
       "unique         2           164           164           1            1   \n",
       "top     DISTRICT          2780    HANOVER 28        0000  All Schools   \n",
       "freq         550             4             4         554          554   \n",
       "\n",
       "             grade num_total_rec num_valid_scores num_no_scores  \\\n",
       "count          554           554              554           554   \n",
       "unique           4           334              311           161   \n",
       "top     All Grades            29               17             0   \n",
       "freq           164            11               10            94   \n",
       "\n",
       "       participation_rate  ... percent_ae_19 num_me_19 percent_me_19  \\\n",
       "count                 554  ...           554       554           554   \n",
       "unique                226  ...           242       158           156   \n",
       "top                 100.0  ...           - -       - -           - -   \n",
       "freq                   94  ...            71       359           359   \n",
       "\n",
       "       num_ee_19 percent_ee_19 num_me_or_ee_19 percent_me_or_ee_19  \\\n",
       "count        554           554             554                 554   \n",
       "unique        86            81             206                 302   \n",
       "top          - -           - -             - -                 - -   \n",
       "freq         359           359              46                  46   \n",
       "\n",
       "       num_me_or_ee_18 percent_me_or_ee_18 change_in_me_or_ee  \n",
       "count              554                 554                554  \n",
       "unique             207                 307                235  \n",
       "top                - -                 - -                - -  \n",
       "freq                63                  63                 74  \n",
       "\n",
       "[4 rows x 26 columns]"
      ]
     },
     "execution_count": 4,
     "metadata": {},
     "output_type": "execute_result"
    }
   ],
   "source": [
    "d_df.describe()"
   ]
  },
  {
   "cell_type": "code",
   "execution_count": 19,
   "metadata": {},
   "outputs": [
    {
     "data": {
      "image/png": "[encoded data removed]",
      "text/plain": [
       "<Figure size 432x288 with 4 Axes>"
      ]
     },
     "metadata": {
      "needs_background": "light"
     },
     "output_type": "display_data"
    }
   ],
   "source": [
    "fig = plt.figure()\n",
    "ax1 = fig.add_subplot(2, 2, 1)\n",
    "ax2 = fig.add_subplot(2, 2, 2)\n",
    "ax3 = fig.add_subplot(2, 2, 3)\n",
    "ax4 = fig.add_subplot(2, 2, 4)\n",
    "_ = ax1.hist(d_df['participation_rate'], bins=30)"
   ]
  },
  {
   "cell_type": "code",
   "execution_count": 18,
   "metadata": {},
   "outputs": [],
   "source": [
    "_ = ax1.hist(d_df['participation_rate'], bins=30)\n",
    "plt.show()"
   ]
  },
  {
   "cell_type": "code",
   "execution_count": 22,
   "metadata": {},
   "outputs": [
    {
     "data": {
      "image/png": "[encoded data removed]",
      "text/plain": [
       "<Figure size 432x288 with 1 Axes>"
      ]
     },
     "metadata": {
      "needs_background": "light"
     },
     "output_type": "display_data"
    }
   ],
   "source": [
    "plt.hist(d_df['participation_rate'], bins=50)\n",
    "plt.show()"
   ]
  },
  {
   "cell_type": "code",
   "execution_count": 26,
   "metadata": {},
   "outputs": [
    {
     "ename": "SyntaxError",
     "evalue": "invalid syntax (<ipython-input-26-ad4f89b68218>, line 3)",
     "output_type": "error",
     "traceback": [
      "\u001b[0;36m  File \u001b[0;32m\"<ipython-input-26-ad4f89b68218>\"\u001b[0;36m, line \u001b[0;32m3\u001b[0m\n\u001b[0;31m    ax.hist(d_df['participation_rate'], bins=50)\u001b[0m\n\u001b[0m     ^\u001b[0m\n\u001b[0;31mSyntaxError\u001b[0m\u001b[0;31m:\u001b[0m invalid syntax\n"
     ]
    }
   ],
   "source": [
    "plt.style.use('ggplot')\n",
    "fig, ax = plt.subplots(1,1, figsize = (12, 8)\n",
    "ax.hist(d_df['participation_rate'], bins=50)\n",
    "plt.show()"
   ]
  },
  {
   "cell_type": "code",
   "execution_count": 27,
   "metadata": {},
   "outputs": [
    {
     "data": {
      "text/plain": [
       "<matplotlib.axes._subplots.AxesSubplot at 0x7ff12f1489d0>"
      ]
     },
     "execution_count": 27,
     "metadata": {},
     "output_type": "execute_result"
    },
    {
     "data": {
      "image/png": "[encoded data removed]",
      "text/plain": [
       "<Figure size 432x288 with 1 Axes>"
      ]
     },
     "metadata": {
      "needs_background": "light"
     },
     "output_type": "display_data"
    }
   ],
   "source": [
    "import seaborn as sns\n",
    "sns.distplot(d_df['participation_rate'])"
   ]
  },
  {
   "cell_type": "code",
   "execution_count": null,
   "metadata": {},
   "outputs": [],
   "source": []
  }
 ],
 "metadata": {
  "kernelspec": {
   "display_name": "Python 3",
   "language": "python",
   "name": "python3"
  },
  "language_info": {
   "codemirror_mode": {
    "name": "ipython",
    "version": 3
   },
   "file_extension": ".py",
   "mimetype": "text/x-python",
   "name": "python",
   "nbconvert_exporter": "python",
   "pygments_lexer": "ipython3",
   "version": "3.7.6"
  }
 },
 "nbformat": 4,
 "nbformat_minor": 4
}
